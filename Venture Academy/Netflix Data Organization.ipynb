{
 "cells": [
  {
   "cell_type": "code",
   "execution_count": 4,
   "metadata": {},
   "outputs": [],
   "source": [
    "import pandas as pd\n",
    "from math import pow, sqrt"
   ]
  },
  {
   "cell_type": "code",
   "execution_count": 6,
   "metadata": {},
   "outputs": [
    {
     "ename": "NameError",
     "evalue": "name 'ratings' is not defined",
     "output_type": "error",
     "traceback": [
      "\u001b[1;31m---------------------------------------------------------------------------\u001b[0m",
      "\u001b[1;31mNameError\u001b[0m                                 Traceback (most recent call last)",
      "Cell \u001b[1;32mIn[6], line 2\u001b[0m\n\u001b[0;32m      1\u001b[0m atings \u001b[39m=\u001b[39m pd\u001b[39m.\u001b[39mread_csv(\u001b[39m'\u001b[39m\u001b[39mratings.csv\u001b[39m\u001b[39m'\u001b[39m, engine\u001b[39m=\u001b[39m\u001b[39m'\u001b[39m\u001b[39mpython\u001b[39m\u001b[39m'\u001b[39m)\n\u001b[1;32m----> 2\u001b[0m \u001b[39mprint\u001b[39m(ratings\u001b[39m.\u001b[39mhead())\n\u001b[0;32m      4\u001b[0m movies \u001b[39m=\u001b[39m pd\u001b[39m.\u001b[39mread_csv( \u001b[39m'\u001b[39m\u001b[39mmovies.csv\u001b[39m\u001b[39m'\u001b[39m, engine\u001b[39m=\u001b[39m \u001b[39m'\u001b[39m\u001b[39mpython\u001b[39m\u001b[39m'\u001b[39m)\n\u001b[0;32m      5\u001b[0m movies\u001b[39m.\u001b[39mgenres \u001b[39m=\u001b[39m movies\u001b[39m.\u001b[39mgenres\u001b[39m.\u001b[39mstr\u001b[39m.\u001b[39msplit(\u001b[39m'\u001b[39m\u001b[39m|\u001b[39m\u001b[39m'\u001b[39m)\n",
      "\u001b[1;31mNameError\u001b[0m: name 'ratings' is not defined"
     ]
    }
   ],
   "source": [
    "ratings = pd.read_csv('ratings.csv', engine='python')\n",
    "print(ratings.head())\n",
    "\n",
    "movies = pd.read_csv( 'movies.csv', engine= 'python')\n",
    "movies.genres = movies.genres.str.split('|')\n",
    "print(movies.head())\n",
    "\n",
    "# Functions Defitions - 'getters'\n",
    "def getRating(user,movieid):\n",
    "  # Get rating a user gave a movie\n",
    "  return (ratings.loc[(ratings.userId==user) & (ratings.movieId == movieid),'rating'].iloc[0])\n",
    "\n",
    "def getMovieids(user):\n",
    "  # Get list of all movieIds that a user has rated\n",
    "  return (ratings.loc[(ratings.userId==user),'movieId'].tolist())\n",
    "\n",
    "def getMovieTitle(movieid):\n",
    "  # Get movie title from given movieId\n",
    "  return (movies.loc[(movies.movieId == movieid),'title'].iloc[0])\n",
    "\n",
    "def moviesWatched(user):\n",
    "  # Return list of all movie titles a user has rated\n",
    "  movieList = {}\n",
    "  index = 0\n",
    "  for i in getMovieids(user):\n",
    "    movieList[index] = getMovieTitle(i)\n",
    "    index += 1\n",
    "  return (movieList)"
   ]
  },
  {
   "cell_type": "code",
   "execution_count": null,
   "metadata": {},
   "outputs": [],
   "source": [
    "# Test getter functions\n",
    "userA = 52\n",
    "movieA = 193\n",
    "print('\\nMovies watched by user', userA, ':\\n', getMovieids(userA))\n",
    "print('\\nTitle of movie', movieA, ':', getMovieTitle(movieA))\n",
    "print('\\nTitles of movies watched by user', userA, ':\\n', moviesWatched(userA))\n",
    "\n",
    "def pearsonCorrelation(user1, user2):\n",
    "  # Calculates similarity scores between 2 users between -1 and 1\n",
    "\n",
    "  bothWatch = []\n",
    "  list1 = ratings.loc[ratings.userId==user1, 'movieId'].tolist()\n",
    "  list2 = ratings.loc[ratings.userId==user2, 'movieId'].tolist()  \n",
    "  for i in list1:\n",
    "    if i in list2: \n",
    "      bothWatch.append(i)\n",
    "\n",
    "  if len(bothWatch) == 0:\n",
    "    return 0 \n",
    "\n",
    "  # Calculations\n",
    "  ratingSum_1 = sum([getRating(user1, i) for i in bothWatch])\n",
    "  ratingSum_2 = sum([getRating(user2, i) for i in bothWatch])\n",
    "  ratingSquaredSum_1 = sum([pow(getRating(user1, i),2) for i in bothWatch])\n",
    "  ratingSquaredSum_2 = sum([pow(getRating(user2, i),2) for i in bothWatch])\n",
    "  productSumRating = sum([getRating(user1, i) * getRating(user2, i) for i in bothWatch])\n",
    "  \n",
    "  numerator = productSumRating - ((ratingSum_1 * ratingSum_2) / len(bothWatch))\n",
    "  denominator = sqrt((ratingSquaredSum_1 - pow(ratingSum_1,2) / len(bothWatch)) * (ratingSquaredSum_2 - pow(ratingSum_2,2) / len(bothWatch)))\n",
    "  \n",
    "  #Catch potential math error!\n",
    "  if denominator == 0:\n",
    "   return 0\n",
    "   \n",
    "  return numerator/denominator"
   ]
  },
  {
   "cell_type": "code",
   "execution_count": null,
   "metadata": {},
   "outputs": [],
   "source": [
    "# Test finding Pearson Score for 2 users\n",
    "userx = 88\n",
    "usery = 69\n",
    "print( 'Pearson Correlations Score for users' , userx, 'and', usery)\n",
    "print(pearsonCorrelation(userx, usery))\n",
    "\n",
    "def getRecs(user):\n",
    "  # Get movie recommendations for user, based on correlation scores with other users and their ratings\n",
    "  # and their ratings \n",
    "\n",
    "  user_ids = ratings.userId.unique().tolist()\n",
    "  total = {}\n",
    "  similaritySum = {}\n",
    "\n",
    "  #Iterate over other users ids \n",
    "  for i in user_ids: \n",
    "    #Calculate similarity score\n",
    "    score = pearsonCorrelation(user, i)\n",
    "\n",
    "    #Skip if users have a 0 or negative score because they aren't a good match \n",
    "    if score <= 0: \n",
    "      continue \n",
    "\n",
    "    #Get weighted similarity scores \n",
    "    for movieid in getMovieids(i):\n",
    "      if movieid not in getMovieids(user) or getRating(user, movieid) == 0:\n",
    "        total[movieid] = getRating(i, movieid) * score\n",
    "        similaritySum[movieid] = score \n",
    "\n",
    "    #Normalize ratings \n",
    "    ranking = [(tot/similaritySum[movieid], movieid) for movieid, tot in total.items()]\n",
    "    ranking.sort()\n",
    "    ranking.reverse()\n",
    "\n",
    "    #Get movie titles instead of numbers and return the top 10 matches \n",
    "    rec = [getMovieTitle(movieid) for score, movieid in ranking]\n",
    "    return rec[:10] \n",
    "\n",
    "# Test finding movie recommendations for a user\n",
    "userx = 30\n",
    "\n",
    "\n",
    "print('\\nRecommended movies for user', userx, ':')\n",
    "print(getRecs(userx))"
   ]
  }
 ],
 "metadata": {
  "kernelspec": {
   "display_name": "Python 3",
   "language": "python",
   "name": "python3"
  },
  "language_info": {
   "codemirror_mode": {
    "name": "ipython",
    "version": 3
   },
   "file_extension": ".py",
   "mimetype": "text/x-python",
   "name": "python",
   "nbconvert_exporter": "python",
   "pygments_lexer": "ipython3",
   "version": "3.11.3"
  },
  "orig_nbformat": 4
 },
 "nbformat": 4,
 "nbformat_minor": 2
}
